{
 "cells": [
  {
   "cell_type": "markdown",
   "id": "c272a01e",
   "metadata": {},
   "source": [
    "# Tree Based Search\n",
    "### Assignment 2A \n",
    "## Features\n",
    "- The code implements a tree-based search algorithm to find the shortest path between two nodes in a graph\n",
    "- The algorithm uses a priority queue to efficiently explore the graph\n",
    "- The code includes a `Node` class to represent nodes in the graph, and a `Graph\n",
    "- The code includes a `TreeBasedSearch` class to implement the tree-based search algorithm\n",
    "- The code includes a `main` function to test the algorithm\n",
    "## Algorithms\n",
    "+ Depth-first search\n",
    "+ Breadth-first search\n",
    "+ A\\* algorithm\n",
    "+ Dijkstra's algorithm\n",
    "+ Custom 1 - \n",
    "+ Custom 2 -"
   ]
  },
  {
   "cell_type": "code",
   "execution_count": 15,
   "id": "791cf0f0",
   "metadata": {},
   "outputs": [],
   "source": [
    "from search import *\n",
    "from problem import *"
   ]
  },
  {
   "cell_type": "markdown",
   "id": "7ada7169",
   "metadata": {},
   "source": [
    "# Depth-first search (DFS)"
   ]
  },
  {
   "cell_type": "code",
   "execution_count": null,
   "id": "c1a85deb",
   "metadata": {},
   "outputs": [],
   "source": []
  }
 ],
 "metadata": {
  "kernelspec": {
   "display_name": "aima_environment",
   "language": "python",
   "name": "python3"
  },
  "language_info": {
   "codemirror_mode": {
    "name": "ipython",
    "version": 3
   },
   "file_extension": ".py",
   "mimetype": "text/x-python",
   "name": "python",
   "nbconvert_exporter": "python",
   "pygments_lexer": "ipython3",
   "version": "3.9.21"
  }
 },
 "nbformat": 4,
 "nbformat_minor": 5
}
