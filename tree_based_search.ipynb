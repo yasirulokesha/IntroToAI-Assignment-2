{
 "cells": [
  {
   "cell_type": "markdown",
   "id": "c272a01e",
   "metadata": {},
   "source": [
    "# Tree Based Search\n",
    "### Assignment 2A \n",
    "## Features\n",
    "- The code implements a tree-based search algorithm to find the shortest path between two nodes in a graph\n",
    "- The algorithm uses a priority queue to efficiently explore the graph\n",
    "- The code includes a `Node` class to represent nodes in the graph, and a `Graph\n",
    "- The code includes a `TreeBasedSearch` class to implement the tree-based search algorithm\n",
    "- The code includes a `main` function to test the algorithm\n",
    "## Algorithms\n",
    "+ Depth-first search\n",
    "+ Breadth-first search\n",
    "+ A\\* algorithm\n",
    "+ Dijkstra's algorithm\n",
    "+ Custom 1 - \n",
    "+ Custom 2 -"
   ]
  },
  {
   "cell_type": "code",
   "execution_count": 13,
   "id": "791cf0f0",
   "metadata": {},
   "outputs": [
    {
     "ename": "ImportError",
     "evalue": "cannot import name 'psource' from 'notebook' (/opt/anaconda3/envs/aima_environment/lib/python3.9/site-packages/notebook/__init__.py)",
     "output_type": "error",
     "traceback": [
      "\u001b[0;31m---------------------------------------------------------------------------\u001b[0m",
      "\u001b[0;31mImportError\u001b[0m                               Traceback (most recent call last)",
      "Cell \u001b[0;32mIn[13], line 2\u001b[0m\n\u001b[1;32m      1\u001b[0m \u001b[38;5;28;01mfrom\u001b[39;00m \u001b[38;5;21;01msearch\u001b[39;00m \u001b[38;5;28;01mimport\u001b[39;00m \u001b[38;5;241m*\u001b[39m\n\u001b[0;32m----> 2\u001b[0m \u001b[38;5;28;01mfrom\u001b[39;00m \u001b[38;5;21;01mnotebook\u001b[39;00m \u001b[38;5;28;01mimport\u001b[39;00m psource\n",
      "\u001b[0;31mImportError\u001b[0m: cannot import name 'psource' from 'notebook' (/opt/anaconda3/envs/aima_environment/lib/python3.9/site-packages/notebook/__init__.py)"
     ]
    }
   ],
   "source": [
    "from search import *\n",
    "from notebook import psource\n",
    "# # Needed to hide warnings in the matplotlib sections\n",
    "# import warnings\n",
    "# warnings.filterwarnings(\"ignore\")"
   ]
  },
  {
   "cell_type": "markdown",
   "id": "7ada7169",
   "metadata": {},
   "source": [
    "# Depth-first search (DFS)"
   ]
  },
  {
   "cell_type": "code",
   "execution_count": null,
   "id": "c1a85deb",
   "metadata": {},
   "outputs": [],
   "source": [
    "psource"
   ]
  }
 ],
 "metadata": {
  "kernelspec": {
   "display_name": "aima_environment",
   "language": "python",
   "name": "python3"
  },
  "language_info": {
   "codemirror_mode": {
    "name": "ipython",
    "version": 3
   },
   "file_extension": ".py",
   "mimetype": "text/x-python",
   "name": "python",
   "nbconvert_exporter": "python",
   "pygments_lexer": "ipython3",
   "version": "3.9.21"
  }
 },
 "nbformat": 4,
 "nbformat_minor": 5
}
