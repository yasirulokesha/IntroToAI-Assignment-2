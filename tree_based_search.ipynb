{
 "cells": [
  {
   "cell_type": "markdown",
   "id": "c272a01e",
   "metadata": {},
   "source": [
    "# Tree Based Search\n",
    "### Assignment 2A \n",
    "## Features\n",
    "- The code implements a tree-based search algorithm to find the shortest path between two nodes in a graph\n",
    "- The algorithm uses a priority queue to efficiently explore the graph\n",
    "- The code includes a `Node` class to represent nodes in the graph, and a `Graph\n",
    "- The code includes a `TreeBasedSearch` class to implement the tree-based search algorithm\n",
    "- The code includes a `main` function to test the algorithm\n",
    "## Algorithms\n",
    "+ Depth-first search\n",
    "+ Breadth-first search\n",
    "+ A\\* algorithm\n",
    "+ Dijkstra's algorithm\n",
    "+ Custom 1 - \n",
    "+ Custom 2 -"
   ]
  },
  {
   "cell_type": "code",
   "execution_count": 35,
   "id": "791cf0f0",
   "metadata": {},
   "outputs": [],
   "source": [
    "import problem \n",
    "from algorithms.depth_first_search import dfs\n",
    "from algorithms.breadth_first_search import bfs\n",
    "from algorithms.a_star_search import a_star"
   ]
  },
  {
   "cell_type": "code",
   "execution_count": 38,
   "id": "79e69558",
   "metadata": {},
   "outputs": [
    {
     "ename": "ImportError",
     "evalue": "cannot import name 'read_file' from 'problem' (/Users/yasirulokesha/Documents/GitHub/IntroToAI-Assignment-2/problem.py)",
     "output_type": "error",
     "traceback": [
      "\u001b[0;31m---------------------------------------------------------------------------\u001b[0m",
      "\u001b[0;31mImportError\u001b[0m                               Traceback (most recent call last)",
      "Cell \u001b[0;32mIn[38], line 1\u001b[0m\n\u001b[0;32m----> 1\u001b[0m \u001b[38;5;28;01mfrom\u001b[39;00m \u001b[38;5;21;01mproblem\u001b[39;00m \u001b[38;5;28;01mimport\u001b[39;00m read_file\n\u001b[1;32m      3\u001b[0m problem \u001b[38;5;241m=\u001b[39m read_file(\u001b[38;5;124m'\u001b[39m\u001b[38;5;124mPathFinder-test.txt\u001b[39m\u001b[38;5;124m'\u001b[39m)\n",
      "\u001b[0;31mImportError\u001b[0m: cannot import name 'read_file' from 'problem' (/Users/yasirulokesha/Documents/GitHub/IntroToAI-Assignment-2/problem.py)"
     ]
    }
   ],
   "source": [
    "from problem import read_file\n",
    "\n",
    "problem = read_file('PathFinder-test.txt')"
   ]
  },
  {
   "cell_type": "markdown",
   "id": "7ada7169",
   "metadata": {},
   "source": [
    "# Depth-first search (DFS)"
   ]
  },
  {
   "cell_type": "code",
   "execution_count": null,
   "id": "c1a85deb",
   "metadata": {},
   "outputs": [],
   "source": []
  }
 ],
 "metadata": {
  "kernelspec": {
   "display_name": "aima_environment",
   "language": "python",
   "name": "python3"
  },
  "language_info": {
   "codemirror_mode": {
    "name": "ipython",
    "version": 3
   },
   "file_extension": ".py",
   "mimetype": "text/x-python",
   "name": "python",
   "nbconvert_exporter": "python",
   "pygments_lexer": "ipython3",
   "version": "3.9.21"
  }
 },
 "nbformat": 4,
 "nbformat_minor": 5
}
